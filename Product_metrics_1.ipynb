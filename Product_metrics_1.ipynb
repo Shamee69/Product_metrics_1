{
 "cells": [
  {
   "cell_type": "code",
   "execution_count": 2,
   "id": "3eabb7ae",
   "metadata": {},
   "outputs": [],
   "source": [
    "file_path = 'KC_case_data\\xa0.csv'"
   ]
  },
  {
   "cell_type": "code",
   "execution_count": 3,
   "id": "fccbfb6b",
   "metadata": {},
   "outputs": [],
   "source": [
    "import pandas as pd"
   ]
  },
  {
   "cell_type": "code",
   "execution_count": 4,
   "id": "b89322e7",
   "metadata": {},
   "outputs": [],
   "source": [
    "df = pd.read_csv(file_path, parse_dates=['date'])"
   ]
  },
  {
   "cell_type": "markdown",
   "id": "0b385641",
   "metadata": {},
   "source": [
    "<strong>Данные из AppMetrica за период с 1 января по 31 марта 2020, только по пользователям, зарегистрированным позднее 1 января 2020</strong>"
   ]
  },
  {
   "cell_type": "code",
   "execution_count": 5,
   "id": "f5114e79",
   "metadata": {},
   "outputs": [
    {
     "data": {
      "text/html": [
       "<div>\n",
       "<style scoped>\n",
       "    .dataframe tbody tr th:only-of-type {\n",
       "        vertical-align: middle;\n",
       "    }\n",
       "\n",
       "    .dataframe tbody tr th {\n",
       "        vertical-align: top;\n",
       "    }\n",
       "\n",
       "    .dataframe thead th {\n",
       "        text-align: right;\n",
       "    }\n",
       "</style>\n",
       "<table border=\"1\" class=\"dataframe\">\n",
       "  <thead>\n",
       "    <tr style=\"text-align: right;\">\n",
       "      <th></th>\n",
       "      <th>date</th>\n",
       "      <th>event</th>\n",
       "      <th>purchase_sum</th>\n",
       "      <th>os_name</th>\n",
       "      <th>device_id</th>\n",
       "      <th>gender</th>\n",
       "      <th>city</th>\n",
       "      <th>utm_source</th>\n",
       "    </tr>\n",
       "  </thead>\n",
       "  <tbody>\n",
       "    <tr>\n",
       "      <th>0</th>\n",
       "      <td>2020-01-01</td>\n",
       "      <td>app_start</td>\n",
       "      <td>NaN</td>\n",
       "      <td>android</td>\n",
       "      <td>669460</td>\n",
       "      <td>female</td>\n",
       "      <td>Moscow</td>\n",
       "      <td>-</td>\n",
       "    </tr>\n",
       "    <tr>\n",
       "      <th>1</th>\n",
       "      <td>2020-01-01</td>\n",
       "      <td>app_start</td>\n",
       "      <td>NaN</td>\n",
       "      <td>ios</td>\n",
       "      <td>833621</td>\n",
       "      <td>male</td>\n",
       "      <td>Moscow</td>\n",
       "      <td>vk_ads</td>\n",
       "    </tr>\n",
       "    <tr>\n",
       "      <th>2</th>\n",
       "      <td>2020-01-01</td>\n",
       "      <td>app_start</td>\n",
       "      <td>NaN</td>\n",
       "      <td>android</td>\n",
       "      <td>1579237</td>\n",
       "      <td>male</td>\n",
       "      <td>Saint-Petersburg</td>\n",
       "      <td>referal</td>\n",
       "    </tr>\n",
       "    <tr>\n",
       "      <th>3</th>\n",
       "      <td>2020-01-01</td>\n",
       "      <td>app_start</td>\n",
       "      <td>NaN</td>\n",
       "      <td>android</td>\n",
       "      <td>1737182</td>\n",
       "      <td>female</td>\n",
       "      <td>Moscow</td>\n",
       "      <td>facebook_ads</td>\n",
       "    </tr>\n",
       "    <tr>\n",
       "      <th>4</th>\n",
       "      <td>2020-01-01</td>\n",
       "      <td>app_start</td>\n",
       "      <td>NaN</td>\n",
       "      <td>ios</td>\n",
       "      <td>4029024</td>\n",
       "      <td>female</td>\n",
       "      <td>Moscow</td>\n",
       "      <td>facebook_ads</td>\n",
       "    </tr>\n",
       "    <tr>\n",
       "      <th>5</th>\n",
       "      <td>2020-01-01</td>\n",
       "      <td>app_start</td>\n",
       "      <td>NaN</td>\n",
       "      <td>android</td>\n",
       "      <td>5148476</td>\n",
       "      <td>male</td>\n",
       "      <td>Saint-Petersburg</td>\n",
       "      <td>-</td>\n",
       "    </tr>\n",
       "    <tr>\n",
       "      <th>6</th>\n",
       "      <td>2020-01-01</td>\n",
       "      <td>app_start</td>\n",
       "      <td>NaN</td>\n",
       "      <td>android</td>\n",
       "      <td>8383386</td>\n",
       "      <td>female</td>\n",
       "      <td>Saint-Petersburg</td>\n",
       "      <td>vk_ads</td>\n",
       "    </tr>\n",
       "    <tr>\n",
       "      <th>7</th>\n",
       "      <td>2020-01-01</td>\n",
       "      <td>app_start</td>\n",
       "      <td>NaN</td>\n",
       "      <td>android</td>\n",
       "      <td>8581267</td>\n",
       "      <td>female</td>\n",
       "      <td>Saint-Petersburg</td>\n",
       "      <td>google_ads</td>\n",
       "    </tr>\n",
       "    <tr>\n",
       "      <th>8</th>\n",
       "      <td>2020-01-01</td>\n",
       "      <td>app_start</td>\n",
       "      <td>NaN</td>\n",
       "      <td>ios</td>\n",
       "      <td>10144701</td>\n",
       "      <td>female</td>\n",
       "      <td>Moscow</td>\n",
       "      <td>-</td>\n",
       "    </tr>\n",
       "    <tr>\n",
       "      <th>9</th>\n",
       "      <td>2020-01-01</td>\n",
       "      <td>app_start</td>\n",
       "      <td>NaN</td>\n",
       "      <td>ios</td>\n",
       "      <td>10274354</td>\n",
       "      <td>female</td>\n",
       "      <td>Saint-Petersburg</td>\n",
       "      <td>instagram_ads</td>\n",
       "    </tr>\n",
       "  </tbody>\n",
       "</table>\n",
       "</div>"
      ],
      "text/plain": [
       "        date      event  purchase_sum  os_name  device_id  gender  \\\n",
       "0 2020-01-01  app_start           NaN  android     669460  female   \n",
       "1 2020-01-01  app_start           NaN      ios     833621    male   \n",
       "2 2020-01-01  app_start           NaN  android    1579237    male   \n",
       "3 2020-01-01  app_start           NaN  android    1737182  female   \n",
       "4 2020-01-01  app_start           NaN      ios    4029024  female   \n",
       "5 2020-01-01  app_start           NaN  android    5148476    male   \n",
       "6 2020-01-01  app_start           NaN  android    8383386  female   \n",
       "7 2020-01-01  app_start           NaN  android    8581267  female   \n",
       "8 2020-01-01  app_start           NaN      ios   10144701  female   \n",
       "9 2020-01-01  app_start           NaN      ios   10274354  female   \n",
       "\n",
       "               city     utm_source  \n",
       "0            Moscow              -  \n",
       "1            Moscow         vk_ads  \n",
       "2  Saint-Petersburg        referal  \n",
       "3            Moscow   facebook_ads  \n",
       "4            Moscow   facebook_ads  \n",
       "5  Saint-Petersburg              -  \n",
       "6  Saint-Petersburg         vk_ads  \n",
       "7  Saint-Petersburg     google_ads  \n",
       "8            Moscow              -  \n",
       "9  Saint-Petersburg  instagram_ads  "
      ]
     },
     "execution_count": 5,
     "metadata": {},
     "output_type": "execute_result"
    }
   ],
   "source": [
    "df.head(10)"
   ]
  },
  {
   "cell_type": "markdown",
   "id": "91481cd1",
   "metadata": {},
   "source": [
    "<h1>Описание данных</h1>\n",
    "\n",
    "- date – дата совершения события\n",
    "\n",
    "- event - событие:\n",
    "\n",
    "    app_install – установка приложения\\\n",
    "    app_start – открыть приложения\\\n",
    "    register – зарегистрироваться \\\n",
    "    search – перейти на страницу поиска товаров (каталог)\\\n",
    "    open_item – открыть товар\\\n",
    "    choose_item – отправить товар в корзину\\\n",
    "    tap_basket – перейти в корзину\\\n",
    "    purchase – подтверждение покупки\\\n",
    "<>\n",
    "- purchase_sum – стоимость покупки (при совершении события ‘purchase’)\n",
    "- os_name – платформа пользователя\n",
    "- device_id – идентификатор устройства пользователя\n",
    "- gender – пол пользователя\n",
    "- city – город пользователя\n",
    "- urm_source – канал, с которого пришел пользователь:\n",
    "\n",
    "    yandex-direct – Яндекс директ\\\n",
    "    google_ads – реклама в Google\\\n",
    "    vk_ads – реклама в ВК\\\n",
    "    instagram_ads – реклама в instagram\\\n",
    "    facebook_ads – реклама в facebook\\\n",
    "    referal – акция «приведи друга»\\\n",
    "    Если стоит ‘-’, то канал не определен или это скачивание приложения напрямую или посещение не с рекламы  \\\n",
    "<>    \n",
    " "
   ]
  },
  {
   "cell_type": "markdown",
   "id": "8ececb12",
   "metadata": {},
   "source": [
    "Обратите внимание на следующее:\n",
    "\n",
    "- В выгрузке только уникальные действия пользователей за каждый день \n",
    "\n",
    "- Можно миновать стадию установки приложения, если оно было установлено ранее\n",
    "\n",
    "- Можно миновать стадию регистрации, если пользователь был уже залогинен на момент сессии. Однако незарегистрированные пользователи не могут оформить покупку. "
   ]
  },
  {
   "cell_type": "code",
   "execution_count": 6,
   "id": "0ac65909",
   "metadata": {},
   "outputs": [
    {
     "data": {
      "text/plain": [
       "(2747968, 8)"
      ]
     },
     "execution_count": 6,
     "metadata": {},
     "output_type": "execute_result"
    }
   ],
   "source": [
    "# Размер\n",
    "df.shape"
   ]
  },
  {
   "cell_type": "code",
   "execution_count": 7,
   "id": "4ce4bcb7",
   "metadata": {},
   "outputs": [
    {
     "data": {
      "text/plain": [
       "date                  0\n",
       "event                 0\n",
       "purchase_sum    2606585\n",
       "os_name               0\n",
       "device_id             0\n",
       "gender                0\n",
       "city                  0\n",
       "utm_source            0\n",
       "dtype: int64"
      ]
     },
     "execution_count": 7,
     "metadata": {},
     "output_type": "execute_result"
    }
   ],
   "source": [
    "# Пропуски\n",
    "df.isna().sum()"
   ]
  },
  {
   "cell_type": "code",
   "execution_count": 8,
   "id": "deb66c54",
   "metadata": {},
   "outputs": [
    {
     "data": {
      "text/plain": [
       "0"
      ]
     },
     "execution_count": 8,
     "metadata": {},
     "output_type": "execute_result"
    }
   ],
   "source": [
    "# Обнаружение дубликатов по всем столбцам\n",
    "df.duplicated().sum()"
   ]
  },
  {
   "cell_type": "code",
   "execution_count": 9,
   "id": "d18fcefa",
   "metadata": {},
   "outputs": [
    {
     "data": {
      "text/plain": [
       "190884"
      ]
     },
     "execution_count": 9,
     "metadata": {},
     "output_type": "execute_result"
    }
   ],
   "source": [
    "# Уникальных юзеров\n",
    "unique_users = df.device_id.nunique()\n",
    "unique_users"
   ]
  },
  {
   "cell_type": "markdown",
   "id": "c0046adf",
   "metadata": {},
   "source": [
    "<h2>Задача #1</h2>"
   ]
  },
  {
   "cell_type": "code",
   "execution_count": 10,
   "id": "5b7798b4",
   "metadata": {},
   "outputs": [
    {
     "data": {
      "text/plain": [
       "75032"
      ]
     },
     "execution_count": 10,
     "metadata": {},
     "output_type": "execute_result"
    }
   ],
   "source": [
    "# MAU февраля: количество уникальных пользователей, которые зашли в приложение в течение месяца\n",
    "\n",
    "february= df[df['date'].dt.month == 2]          # датасет за февраль\n",
    "feb_unique_users = february.device_id.nunique()\n",
    "feb_unique_users"
   ]
  },
  {
   "cell_type": "code",
   "execution_count": 11,
   "id": "f92002ba",
   "metadata": {},
   "outputs": [
    {
     "data": {
      "text/plain": [
       "80297"
      ]
     },
     "execution_count": 11,
     "metadata": {},
     "output_type": "execute_result"
    }
   ],
   "source": [
    "# Количество установок в январе:\n",
    "january= df[df['date'].dt.month == 1]          # датасет за январе\n",
    "jan_installs = january[january['event'] == 'app_install'].shape[0]\n",
    "jan_installs"
   ]
  },
  {
   "cell_type": "markdown",
   "id": "3665a666",
   "metadata": {},
   "source": [
    "<h2>Задача #2</h2>\n",
    "Когорты по дню установки приложения и конверсия из установки в покупку в течение 7 дней"
   ]
  },
  {
   "cell_type": "code",
   "execution_count": 12,
   "id": "695c278d",
   "metadata": {},
   "outputs": [],
   "source": [
    "# Сортировка таблиц по Установкам и Покупкам\n",
    "installs = df.query('event == \"app_install\" ')\n",
    "purchases = df.query('event == \"purchase\" ')"
   ]
  },
  {
   "cell_type": "code",
   "execution_count": 13,
   "id": "76e0b49f",
   "metadata": {},
   "outputs": [
    {
     "data": {
      "text/plain": [
       "154597"
      ]
     },
     "execution_count": 13,
     "metadata": {},
     "output_type": "execute_result"
    }
   ],
   "source": [
    "# кол-во уникальных установок по девайсам\n",
    "installs.device_id.nunique()"
   ]
  },
  {
   "cell_type": "code",
   "execution_count": 14,
   "id": "023ee0af",
   "metadata": {},
   "outputs": [
    {
     "data": {
      "text/plain": [
       "91"
      ]
     },
     "execution_count": 14,
     "metadata": {},
     "output_type": "execute_result"
    }
   ],
   "source": [
    "# кол-во уникальных дней\n",
    "installs.date.nunique()"
   ]
  },
  {
   "cell_type": "code",
   "execution_count": 15,
   "id": "c46ef8af",
   "metadata": {},
   "outputs": [],
   "source": [
    "# Таблица с датами первой покупки\n",
    "first_purchases_dates = purchases.groupby('device_id', as_index=False).agg({'date':'min'})"
   ]
  },
  {
   "cell_type": "code",
   "execution_count": 16,
   "id": "1a371e3c",
   "metadata": {},
   "outputs": [
    {
     "data": {
      "text/html": [
       "<div>\n",
       "<style scoped>\n",
       "    .dataframe tbody tr th:only-of-type {\n",
       "        vertical-align: middle;\n",
       "    }\n",
       "\n",
       "    .dataframe tbody tr th {\n",
       "        vertical-align: top;\n",
       "    }\n",
       "\n",
       "    .dataframe thead th {\n",
       "        text-align: right;\n",
       "    }\n",
       "</style>\n",
       "<table border=\"1\" class=\"dataframe\">\n",
       "  <thead>\n",
       "    <tr style=\"text-align: right;\">\n",
       "      <th></th>\n",
       "      <th>device_id</th>\n",
       "      <th>date</th>\n",
       "    </tr>\n",
       "  </thead>\n",
       "  <tbody>\n",
       "    <tr>\n",
       "      <th>0</th>\n",
       "      <td>4014</td>\n",
       "      <td>2020-02-01</td>\n",
       "    </tr>\n",
       "    <tr>\n",
       "      <th>1</th>\n",
       "      <td>4046</td>\n",
       "      <td>2020-01-04</td>\n",
       "    </tr>\n",
       "    <tr>\n",
       "      <th>2</th>\n",
       "      <td>4060</td>\n",
       "      <td>2020-03-07</td>\n",
       "    </tr>\n",
       "    <tr>\n",
       "      <th>3</th>\n",
       "      <td>4120</td>\n",
       "      <td>2020-01-07</td>\n",
       "    </tr>\n",
       "    <tr>\n",
       "      <th>4</th>\n",
       "      <td>4125</td>\n",
       "      <td>2020-01-07</td>\n",
       "    </tr>\n",
       "    <tr>\n",
       "      <th>...</th>\n",
       "      <td>...</td>\n",
       "      <td>...</td>\n",
       "    </tr>\n",
       "    <tr>\n",
       "      <th>70870</th>\n",
       "      <td>35321120</td>\n",
       "      <td>2020-03-25</td>\n",
       "    </tr>\n",
       "    <tr>\n",
       "      <th>70871</th>\n",
       "      <td>35326839</td>\n",
       "      <td>2020-03-28</td>\n",
       "    </tr>\n",
       "    <tr>\n",
       "      <th>70872</th>\n",
       "      <td>35342310</td>\n",
       "      <td>2020-03-27</td>\n",
       "    </tr>\n",
       "    <tr>\n",
       "      <th>70873</th>\n",
       "      <td>35367797</td>\n",
       "      <td>2020-03-29</td>\n",
       "    </tr>\n",
       "    <tr>\n",
       "      <th>70874</th>\n",
       "      <td>35370030</td>\n",
       "      <td>2020-03-31</td>\n",
       "    </tr>\n",
       "  </tbody>\n",
       "</table>\n",
       "<p>70875 rows × 2 columns</p>\n",
       "</div>"
      ],
      "text/plain": [
       "       device_id       date\n",
       "0           4014 2020-02-01\n",
       "1           4046 2020-01-04\n",
       "2           4060 2020-03-07\n",
       "3           4120 2020-01-07\n",
       "4           4125 2020-01-07\n",
       "...          ...        ...\n",
       "70870   35321120 2020-03-25\n",
       "70871   35326839 2020-03-28\n",
       "70872   35342310 2020-03-27\n",
       "70873   35367797 2020-03-29\n",
       "70874   35370030 2020-03-31\n",
       "\n",
       "[70875 rows x 2 columns]"
      ]
     },
     "execution_count": 16,
     "metadata": {},
     "output_type": "execute_result"
    }
   ],
   "source": [
    "first_purchases_dates"
   ]
  },
  {
   "cell_type": "code",
   "execution_count": 17,
   "id": "38c79058",
   "metadata": {},
   "outputs": [],
   "source": [
    "# Объединяем таблицу с установками и Таблицу с датами первой покупки\n",
    "inst_n_purch = pd.merge(installs, first_purchases_dates, on = 'device_id', suffixes=('_install', '_first_purchase'))"
   ]
  },
  {
   "cell_type": "code",
   "execution_count": 18,
   "id": "1e21aa4f",
   "metadata": {},
   "outputs": [],
   "source": [
    "# Вычитаем кол-во дней прошедших с первой установки\n",
    "inst_n_purch['days_to_1s_purchase'] = (inst_n_purch['date_first_purchase'] - inst_n_purch['date_install']).dt.days\n",
    "# Фильтруем до 7 дней от первой установки\n",
    "seven_days = inst_n_purch[(inst_n_purch['days_to_1s_purchase'] >= 0) & (inst_n_purch['days_to_1s_purchase'] <= 7)]"
   ]
  },
  {
   "cell_type": "code",
   "execution_count": 19,
   "id": "ef197464",
   "metadata": {},
   "outputs": [
    {
     "data": {
      "text/html": [
       "<div>\n",
       "<style scoped>\n",
       "    .dataframe tbody tr th:only-of-type {\n",
       "        vertical-align: middle;\n",
       "    }\n",
       "\n",
       "    .dataframe tbody tr th {\n",
       "        vertical-align: top;\n",
       "    }\n",
       "\n",
       "    .dataframe thead th {\n",
       "        text-align: right;\n",
       "    }\n",
       "</style>\n",
       "<table border=\"1\" class=\"dataframe\">\n",
       "  <thead>\n",
       "    <tr style=\"text-align: right;\">\n",
       "      <th></th>\n",
       "      <th>date</th>\n",
       "      <th>device_id</th>\n",
       "    </tr>\n",
       "  </thead>\n",
       "  <tbody>\n",
       "    <tr>\n",
       "      <th>0</th>\n",
       "      <td>2020-01-01</td>\n",
       "      <td>3579</td>\n",
       "    </tr>\n",
       "    <tr>\n",
       "      <th>1</th>\n",
       "      <td>2020-01-02</td>\n",
       "      <td>3144</td>\n",
       "    </tr>\n",
       "    <tr>\n",
       "      <th>2</th>\n",
       "      <td>2020-01-03</td>\n",
       "      <td>2402</td>\n",
       "    </tr>\n",
       "    <tr>\n",
       "      <th>3</th>\n",
       "      <td>2020-01-04</td>\n",
       "      <td>1831</td>\n",
       "    </tr>\n",
       "    <tr>\n",
       "      <th>4</th>\n",
       "      <td>2020-01-05</td>\n",
       "      <td>1671</td>\n",
       "    </tr>\n",
       "    <tr>\n",
       "      <th>...</th>\n",
       "      <td>...</td>\n",
       "      <td>...</td>\n",
       "    </tr>\n",
       "    <tr>\n",
       "      <th>86</th>\n",
       "      <td>2020-03-27</td>\n",
       "      <td>1199</td>\n",
       "    </tr>\n",
       "    <tr>\n",
       "      <th>87</th>\n",
       "      <td>2020-03-28</td>\n",
       "      <td>1091</td>\n",
       "    </tr>\n",
       "    <tr>\n",
       "      <th>88</th>\n",
       "      <td>2020-03-29</td>\n",
       "      <td>1117</td>\n",
       "    </tr>\n",
       "    <tr>\n",
       "      <th>89</th>\n",
       "      <td>2020-03-30</td>\n",
       "      <td>994</td>\n",
       "    </tr>\n",
       "    <tr>\n",
       "      <th>90</th>\n",
       "      <td>2020-03-31</td>\n",
       "      <td>968</td>\n",
       "    </tr>\n",
       "  </tbody>\n",
       "</table>\n",
       "<p>91 rows × 2 columns</p>\n",
       "</div>"
      ],
      "text/plain": [
       "         date  device_id\n",
       "0  2020-01-01       3579\n",
       "1  2020-01-02       3144\n",
       "2  2020-01-03       2402\n",
       "3  2020-01-04       1831\n",
       "4  2020-01-05       1671\n",
       "..        ...        ...\n",
       "86 2020-03-27       1199\n",
       "87 2020-03-28       1091\n",
       "88 2020-03-29       1117\n",
       "89 2020-03-30        994\n",
       "90 2020-03-31        968\n",
       "\n",
       "[91 rows x 2 columns]"
      ]
     },
     "execution_count": 19,
     "metadata": {},
     "output_type": "execute_result"
    }
   ],
   "source": [
    "# Считаем Когорты по дню установки приложения и кол-во установок\n",
    "cohort_inst = installs.groupby('date', as_index=False).agg({'device_id' : 'count'})\n",
    "cohort_inst"
   ]
  },
  {
   "cell_type": "code",
   "execution_count": 20,
   "id": "fd301d96",
   "metadata": {},
   "outputs": [],
   "source": [
    "# Считаем Когорты по дню установки приложения и кол-во покуаок в течение 7 дней\n",
    "cohort_purch = seven_days.groupby('date_install', as_index=False).agg({'device_id' : 'count'}).rename(columns={'date_install':'date'})"
   ]
  },
  {
   "cell_type": "code",
   "execution_count": 21,
   "id": "6e2daa60",
   "metadata": {},
   "outputs": [],
   "source": [
    "cohort_total = pd.merge(cohort_inst, cohort_purch, on = 'date', suffixes=('_install', '_purchase'))"
   ]
  },
  {
   "cell_type": "code",
   "execution_count": 22,
   "id": "c399026c",
   "metadata": {},
   "outputs": [],
   "source": [
    "# Conversion rate\n",
    "cohort_total['conversion_rate_%'] = round(cohort_total['device_id_purchase'] / cohort_total['device_id_install'] * 100, 1)"
   ]
  },
  {
   "cell_type": "code",
   "execution_count": 23,
   "id": "8825b6cf",
   "metadata": {},
   "outputs": [],
   "source": [
    "# Renaming columns\n",
    "cohort_total = cohort_total.rename(columns={'device_id_install':'installs_total', 'device_id_purchase':'purchases_within_7_days_total'})"
   ]
  },
  {
   "cell_type": "code",
   "execution_count": 24,
   "id": "9a29dabe",
   "metadata": {},
   "outputs": [
    {
     "data": {
      "text/html": [
       "<div>\n",
       "<style scoped>\n",
       "    .dataframe tbody tr th:only-of-type {\n",
       "        vertical-align: middle;\n",
       "    }\n",
       "\n",
       "    .dataframe tbody tr th {\n",
       "        vertical-align: top;\n",
       "    }\n",
       "\n",
       "    .dataframe thead th {\n",
       "        text-align: right;\n",
       "    }\n",
       "</style>\n",
       "<table border=\"1\" class=\"dataframe\">\n",
       "  <thead>\n",
       "    <tr style=\"text-align: right;\">\n",
       "      <th></th>\n",
       "      <th>date</th>\n",
       "      <th>installs_total</th>\n",
       "      <th>purchases_within_7_days_total</th>\n",
       "      <th>conversion_rate_%</th>\n",
       "    </tr>\n",
       "  </thead>\n",
       "  <tbody>\n",
       "    <tr>\n",
       "      <th>0</th>\n",
       "      <td>2020-01-01</td>\n",
       "      <td>3579</td>\n",
       "      <td>1408</td>\n",
       "      <td>39.3</td>\n",
       "    </tr>\n",
       "    <tr>\n",
       "      <th>1</th>\n",
       "      <td>2020-01-02</td>\n",
       "      <td>3144</td>\n",
       "      <td>1186</td>\n",
       "      <td>37.7</td>\n",
       "    </tr>\n",
       "    <tr>\n",
       "      <th>2</th>\n",
       "      <td>2020-01-03</td>\n",
       "      <td>2402</td>\n",
       "      <td>834</td>\n",
       "      <td>34.7</td>\n",
       "    </tr>\n",
       "    <tr>\n",
       "      <th>3</th>\n",
       "      <td>2020-01-04</td>\n",
       "      <td>1831</td>\n",
       "      <td>639</td>\n",
       "      <td>34.9</td>\n",
       "    </tr>\n",
       "    <tr>\n",
       "      <th>4</th>\n",
       "      <td>2020-01-05</td>\n",
       "      <td>1671</td>\n",
       "      <td>587</td>\n",
       "      <td>35.1</td>\n",
       "    </tr>\n",
       "    <tr>\n",
       "      <th>...</th>\n",
       "      <td>...</td>\n",
       "      <td>...</td>\n",
       "      <td>...</td>\n",
       "      <td>...</td>\n",
       "    </tr>\n",
       "    <tr>\n",
       "      <th>86</th>\n",
       "      <td>2020-03-27</td>\n",
       "      <td>1199</td>\n",
       "      <td>277</td>\n",
       "      <td>23.1</td>\n",
       "    </tr>\n",
       "    <tr>\n",
       "      <th>87</th>\n",
       "      <td>2020-03-28</td>\n",
       "      <td>1091</td>\n",
       "      <td>209</td>\n",
       "      <td>19.2</td>\n",
       "    </tr>\n",
       "    <tr>\n",
       "      <th>88</th>\n",
       "      <td>2020-03-29</td>\n",
       "      <td>1117</td>\n",
       "      <td>223</td>\n",
       "      <td>20.0</td>\n",
       "    </tr>\n",
       "    <tr>\n",
       "      <th>89</th>\n",
       "      <td>2020-03-30</td>\n",
       "      <td>994</td>\n",
       "      <td>204</td>\n",
       "      <td>20.5</td>\n",
       "    </tr>\n",
       "    <tr>\n",
       "      <th>90</th>\n",
       "      <td>2020-03-31</td>\n",
       "      <td>968</td>\n",
       "      <td>241</td>\n",
       "      <td>24.9</td>\n",
       "    </tr>\n",
       "  </tbody>\n",
       "</table>\n",
       "<p>91 rows × 4 columns</p>\n",
       "</div>"
      ],
      "text/plain": [
       "         date  installs_total  purchases_within_7_days_total  \\\n",
       "0  2020-01-01            3579                           1408   \n",
       "1  2020-01-02            3144                           1186   \n",
       "2  2020-01-03            2402                            834   \n",
       "3  2020-01-04            1831                            639   \n",
       "4  2020-01-05            1671                            587   \n",
       "..        ...             ...                            ...   \n",
       "86 2020-03-27            1199                            277   \n",
       "87 2020-03-28            1091                            209   \n",
       "88 2020-03-29            1117                            223   \n",
       "89 2020-03-30             994                            204   \n",
       "90 2020-03-31             968                            241   \n",
       "\n",
       "    conversion_rate_%  \n",
       "0                39.3  \n",
       "1                37.7  \n",
       "2                34.7  \n",
       "3                34.9  \n",
       "4                35.1  \n",
       "..                ...  \n",
       "86               23.1  \n",
       "87               19.2  \n",
       "88               20.0  \n",
       "89               20.5  \n",
       "90               24.9  \n",
       "\n",
       "[91 rows x 4 columns]"
      ]
     },
     "execution_count": 24,
     "metadata": {},
     "output_type": "execute_result"
    }
   ],
   "source": [
    "cohort_total"
   ]
  },
  {
   "cell_type": "code",
   "execution_count": 25,
   "id": "741c5be1",
   "metadata": {},
   "outputs": [],
   "source": [
    "max_conversion_row = cohort_total.loc[cohort_total['conversion_rate_%'].idxmax()]"
   ]
  },
  {
   "cell_type": "code",
   "execution_count": 26,
   "id": "1b97de5f",
   "metadata": {},
   "outputs": [
    {
     "data": {
      "text/plain": [
       "date                             2020-01-01 00:00:00\n",
       "installs_total                                  3579\n",
       "purchases_within_7_days_total                   1408\n",
       "conversion_rate_%                               39.3\n",
       "Name: 0, dtype: object"
      ]
     },
     "execution_count": 26,
     "metadata": {},
     "output_type": "execute_result"
    }
   ],
   "source": [
    "# Когорта с наибольшей конверсией  \n",
    "max_conversion_row"
   ]
  },
  {
   "cell_type": "markdown",
   "id": "9bbc7e84",
   "metadata": {},
   "source": [
    "<h2>Задача #3</h2>\n",
    "С какого платного маркетингового канала пришло больше всего новых пользователей? "
   ]
  },
  {
   "cell_type": "code",
   "execution_count": 27,
   "id": "25041a31",
   "metadata": {},
   "outputs": [
    {
     "data": {
      "text/html": [
       "<div>\n",
       "<style scoped>\n",
       "    .dataframe tbody tr th:only-of-type {\n",
       "        vertical-align: middle;\n",
       "    }\n",
       "\n",
       "    .dataframe tbody tr th {\n",
       "        vertical-align: top;\n",
       "    }\n",
       "\n",
       "    .dataframe thead th {\n",
       "        text-align: right;\n",
       "    }\n",
       "</style>\n",
       "<table border=\"1\" class=\"dataframe\">\n",
       "  <thead>\n",
       "    <tr style=\"text-align: right;\">\n",
       "      <th></th>\n",
       "      <th>date</th>\n",
       "      <th>event</th>\n",
       "      <th>purchase_sum</th>\n",
       "      <th>os_name</th>\n",
       "      <th>device_id</th>\n",
       "      <th>gender</th>\n",
       "      <th>city</th>\n",
       "      <th>utm_source</th>\n",
       "    </tr>\n",
       "  </thead>\n",
       "  <tbody>\n",
       "    <tr>\n",
       "      <th>2515061</th>\n",
       "      <td>2020-01-01</td>\n",
       "      <td>app_install</td>\n",
       "      <td>NaN</td>\n",
       "      <td>ios</td>\n",
       "      <td>4921563</td>\n",
       "      <td>male</td>\n",
       "      <td>Moscow</td>\n",
       "      <td>vk_ads</td>\n",
       "    </tr>\n",
       "    <tr>\n",
       "      <th>2515062</th>\n",
       "      <td>2020-01-01</td>\n",
       "      <td>app_install</td>\n",
       "      <td>NaN</td>\n",
       "      <td>ios</td>\n",
       "      <td>1311583</td>\n",
       "      <td>male</td>\n",
       "      <td>Moscow</td>\n",
       "      <td>-</td>\n",
       "    </tr>\n",
       "    <tr>\n",
       "      <th>2515063</th>\n",
       "      <td>2020-01-01</td>\n",
       "      <td>app_install</td>\n",
       "      <td>NaN</td>\n",
       "      <td>android</td>\n",
       "      <td>23006325</td>\n",
       "      <td>male</td>\n",
       "      <td>Saint-Petersburg</td>\n",
       "      <td>-</td>\n",
       "    </tr>\n",
       "    <tr>\n",
       "      <th>2515064</th>\n",
       "      <td>2020-01-01</td>\n",
       "      <td>app_install</td>\n",
       "      <td>NaN</td>\n",
       "      <td>android</td>\n",
       "      <td>5645652</td>\n",
       "      <td>male</td>\n",
       "      <td>Moscow</td>\n",
       "      <td>-</td>\n",
       "    </tr>\n",
       "    <tr>\n",
       "      <th>2515065</th>\n",
       "      <td>2020-01-01</td>\n",
       "      <td>app_install</td>\n",
       "      <td>NaN</td>\n",
       "      <td>ios</td>\n",
       "      <td>8798567</td>\n",
       "      <td>male</td>\n",
       "      <td>Saint-Petersburg</td>\n",
       "      <td>referal</td>\n",
       "    </tr>\n",
       "    <tr>\n",
       "      <th>...</th>\n",
       "      <td>...</td>\n",
       "      <td>...</td>\n",
       "      <td>...</td>\n",
       "      <td>...</td>\n",
       "      <td>...</td>\n",
       "      <td>...</td>\n",
       "      <td>...</td>\n",
       "      <td>...</td>\n",
       "    </tr>\n",
       "    <tr>\n",
       "      <th>2669653</th>\n",
       "      <td>2020-03-31</td>\n",
       "      <td>app_install</td>\n",
       "      <td>NaN</td>\n",
       "      <td>ios</td>\n",
       "      <td>19717968</td>\n",
       "      <td>female</td>\n",
       "      <td>Moscow</td>\n",
       "      <td>-</td>\n",
       "    </tr>\n",
       "    <tr>\n",
       "      <th>2669654</th>\n",
       "      <td>2020-03-31</td>\n",
       "      <td>app_install</td>\n",
       "      <td>NaN</td>\n",
       "      <td>android</td>\n",
       "      <td>32966665</td>\n",
       "      <td>female</td>\n",
       "      <td>Saint-Petersburg</td>\n",
       "      <td>-</td>\n",
       "    </tr>\n",
       "    <tr>\n",
       "      <th>2669655</th>\n",
       "      <td>2020-03-31</td>\n",
       "      <td>app_install</td>\n",
       "      <td>NaN</td>\n",
       "      <td>ios</td>\n",
       "      <td>6335964</td>\n",
       "      <td>female</td>\n",
       "      <td>Moscow</td>\n",
       "      <td>referal</td>\n",
       "    </tr>\n",
       "    <tr>\n",
       "      <th>2669656</th>\n",
       "      <td>2020-03-31</td>\n",
       "      <td>app_install</td>\n",
       "      <td>NaN</td>\n",
       "      <td>android</td>\n",
       "      <td>29155826</td>\n",
       "      <td>male</td>\n",
       "      <td>Saint-Petersburg</td>\n",
       "      <td>vk_ads</td>\n",
       "    </tr>\n",
       "    <tr>\n",
       "      <th>2669657</th>\n",
       "      <td>2020-03-31</td>\n",
       "      <td>app_install</td>\n",
       "      <td>NaN</td>\n",
       "      <td>ios</td>\n",
       "      <td>35057676</td>\n",
       "      <td>male</td>\n",
       "      <td>Moscow</td>\n",
       "      <td>instagram_ads</td>\n",
       "    </tr>\n",
       "  </tbody>\n",
       "</table>\n",
       "<p>154597 rows × 8 columns</p>\n",
       "</div>"
      ],
      "text/plain": [
       "              date        event  purchase_sum  os_name  device_id  gender  \\\n",
       "2515061 2020-01-01  app_install           NaN      ios    4921563    male   \n",
       "2515062 2020-01-01  app_install           NaN      ios    1311583    male   \n",
       "2515063 2020-01-01  app_install           NaN  android   23006325    male   \n",
       "2515064 2020-01-01  app_install           NaN  android    5645652    male   \n",
       "2515065 2020-01-01  app_install           NaN      ios    8798567    male   \n",
       "...            ...          ...           ...      ...        ...     ...   \n",
       "2669653 2020-03-31  app_install           NaN      ios   19717968  female   \n",
       "2669654 2020-03-31  app_install           NaN  android   32966665  female   \n",
       "2669655 2020-03-31  app_install           NaN      ios    6335964  female   \n",
       "2669656 2020-03-31  app_install           NaN  android   29155826    male   \n",
       "2669657 2020-03-31  app_install           NaN      ios   35057676    male   \n",
       "\n",
       "                     city     utm_source  \n",
       "2515061            Moscow         vk_ads  \n",
       "2515062            Moscow              -  \n",
       "2515063  Saint-Petersburg              -  \n",
       "2515064            Moscow              -  \n",
       "2515065  Saint-Petersburg        referal  \n",
       "...                   ...            ...  \n",
       "2669653            Moscow              -  \n",
       "2669654  Saint-Petersburg              -  \n",
       "2669655            Moscow        referal  \n",
       "2669656  Saint-Petersburg         vk_ads  \n",
       "2669657            Moscow  instagram_ads  \n",
       "\n",
       "[154597 rows x 8 columns]"
      ]
     },
     "execution_count": 27,
     "metadata": {},
     "output_type": "execute_result"
    }
   ],
   "source": [
    "# Допустим новый пользователь = Первая установка\n",
    "installs"
   ]
  },
  {
   "cell_type": "code",
   "execution_count": 28,
   "id": "98b5b434",
   "metadata": {},
   "outputs": [
    {
     "data": {
      "text/html": [
       "<div>\n",
       "<style scoped>\n",
       "    .dataframe tbody tr th:only-of-type {\n",
       "        vertical-align: middle;\n",
       "    }\n",
       "\n",
       "    .dataframe tbody tr th {\n",
       "        vertical-align: top;\n",
       "    }\n",
       "\n",
       "    .dataframe thead th {\n",
       "        text-align: right;\n",
       "    }\n",
       "</style>\n",
       "<table border=\"1\" class=\"dataframe\">\n",
       "  <thead>\n",
       "    <tr style=\"text-align: right;\">\n",
       "      <th></th>\n",
       "      <th>utm_source</th>\n",
       "      <th>device_id</th>\n",
       "    </tr>\n",
       "  </thead>\n",
       "  <tbody>\n",
       "    <tr>\n",
       "      <th>0</th>\n",
       "      <td>-</td>\n",
       "      <td>32460</td>\n",
       "    </tr>\n",
       "    <tr>\n",
       "      <th>6</th>\n",
       "      <td>yandex-direct</td>\n",
       "      <td>29368</td>\n",
       "    </tr>\n",
       "    <tr>\n",
       "      <th>2</th>\n",
       "      <td>google_ads</td>\n",
       "      <td>26286</td>\n",
       "    </tr>\n",
       "    <tr>\n",
       "      <th>5</th>\n",
       "      <td>vk_ads</td>\n",
       "      <td>23189</td>\n",
       "    </tr>\n",
       "    <tr>\n",
       "      <th>3</th>\n",
       "      <td>instagram_ads</td>\n",
       "      <td>20096</td>\n",
       "    </tr>\n",
       "    <tr>\n",
       "      <th>1</th>\n",
       "      <td>facebook_ads</td>\n",
       "      <td>13916</td>\n",
       "    </tr>\n",
       "    <tr>\n",
       "      <th>4</th>\n",
       "      <td>referal</td>\n",
       "      <td>9282</td>\n",
       "    </tr>\n",
       "  </tbody>\n",
       "</table>\n",
       "</div>"
      ],
      "text/plain": [
       "      utm_source  device_id\n",
       "0              -      32460\n",
       "6  yandex-direct      29368\n",
       "2     google_ads      26286\n",
       "5         vk_ads      23189\n",
       "3  instagram_ads      20096\n",
       "1   facebook_ads      13916\n",
       "4        referal       9282"
      ]
     },
     "execution_count": 28,
     "metadata": {},
     "output_type": "execute_result"
    }
   ],
   "source": [
    "# Ответ : Яндекс\n",
    "installs.groupby('utm_source', as_index=False).agg({'device_id' : 'count'}).sort_values('device_id', ascending=False)"
   ]
  },
  {
   "cell_type": "markdown",
   "id": "1132cfc9",
   "metadata": {},
   "source": [
    "<h2>Задача #4</h2>\n",
    "Проанализируйте на каком этапе воронки отваливается бОльшая часть клиентов. Посмотрите отдельно сценарии для зарегистрированных и для незарегистрированных пользователей. На каком шаге отваливается больше всего зарегистрированных пользователей?"
   ]
  },
  {
   "cell_type": "code",
   "execution_count": 29,
   "id": "036be676",
   "metadata": {},
   "outputs": [
    {
     "data": {
      "text/plain": [
       "'\\napp_install – установка приложения\\napp_start – открыть приложения\\nregister – зарегистрироваться\\nsearch – перейти на страницу поиска товаров (каталог)\\nopen_item – открыть товар\\nchoose_item – отправить товар в корзину\\ntap_basket – перейти в корзину\\npurchase – подтверждение покупки\\n'"
      ]
     },
     "execution_count": 29,
     "metadata": {},
     "output_type": "execute_result"
    }
   ],
   "source": [
    "# Воронка\n",
    "'''\n",
    "app_install – установка приложения\n",
    "app_start – открыть приложения\n",
    "register – зарегистрироваться\n",
    "search – перейти на страницу поиска товаров (каталог)\n",
    "open_item – открыть товар\n",
    "choose_item – отправить товар в корзину\n",
    "tap_basket – перейти в корзину\n",
    "purchase – подтверждение покупки\n",
    "'''"
   ]
  },
  {
   "cell_type": "code",
   "execution_count": 30,
   "id": "6e98f9fc",
   "metadata": {},
   "outputs": [],
   "source": [
    "df['register_day'] = ''"
   ]
  },
  {
   "cell_type": "code",
   "execution_count": 31,
   "id": "d3e6d8fa",
   "metadata": {},
   "outputs": [],
   "source": [
    "df.loc[df['event'] == 'register', 'register_day'] = df.loc[df['event'] == 'register', 'date']"
   ]
  },
  {
   "cell_type": "code",
   "execution_count": 32,
   "id": "b267c9a7",
   "metadata": {},
   "outputs": [],
   "source": [
    "df['register_day'] = pd.to_datetime(df['register_day'])"
   ]
  },
  {
   "cell_type": "code",
   "execution_count": 33,
   "id": "681ab687",
   "metadata": {},
   "outputs": [],
   "source": [
    "df['register_day'] = df.groupby('device_id')['register_day'].transform('first')"
   ]
  },
  {
   "cell_type": "code",
   "execution_count": 34,
   "id": "bc775173",
   "metadata": {},
   "outputs": [],
   "source": [
    "df['date_after_register'] = df['date'] > df['register_day']"
   ]
  },
  {
   "cell_type": "code",
   "execution_count": 35,
   "id": "eca4c504",
   "metadata": {},
   "outputs": [],
   "source": [
    "df_filtered = df[df.groupby('device_id')['date_after_register'].transform('any')]"
   ]
  },
  {
   "cell_type": "code",
   "execution_count": 36,
   "id": "141a8c02",
   "metadata": {},
   "outputs": [],
   "source": [
    "df_event = df_filtered.query('date_after_register!=False')"
   ]
  },
  {
   "cell_type": "code",
   "execution_count": 37,
   "id": "2cd4b455",
   "metadata": {},
   "outputs": [],
   "source": [
    "df_event_new = df_event.groupby('event', as_index=False) \\\n",
    "    .agg({'device_id': 'count'})"
   ]
  },
  {
   "cell_type": "code",
   "execution_count": 38,
   "id": "f2cf9475",
   "metadata": {},
   "outputs": [
    {
     "data": {
      "text/html": [
       "<div>\n",
       "<style scoped>\n",
       "    .dataframe tbody tr th:only-of-type {\n",
       "        vertical-align: middle;\n",
       "    }\n",
       "\n",
       "    .dataframe tbody tr th {\n",
       "        vertical-align: top;\n",
       "    }\n",
       "\n",
       "    .dataframe thead th {\n",
       "        text-align: right;\n",
       "    }\n",
       "</style>\n",
       "<table border=\"1\" class=\"dataframe\">\n",
       "  <thead>\n",
       "    <tr style=\"text-align: right;\">\n",
       "      <th></th>\n",
       "      <th>event</th>\n",
       "      <th>device_id</th>\n",
       "    </tr>\n",
       "  </thead>\n",
       "  <tbody>\n",
       "    <tr>\n",
       "      <th>0</th>\n",
       "      <td>app_start</td>\n",
       "      <td>441486</td>\n",
       "    </tr>\n",
       "    <tr>\n",
       "      <th>3</th>\n",
       "      <td>search</td>\n",
       "      <td>417101</td>\n",
       "    </tr>\n",
       "    <tr>\n",
       "      <th>1</th>\n",
       "      <td>choose_item</td>\n",
       "      <td>314473</td>\n",
       "    </tr>\n",
       "    <tr>\n",
       "      <th>4</th>\n",
       "      <td>tap_basket</td>\n",
       "      <td>217256</td>\n",
       "    </tr>\n",
       "    <tr>\n",
       "      <th>2</th>\n",
       "      <td>purchase</td>\n",
       "      <td>73630</td>\n",
       "    </tr>\n",
       "  </tbody>\n",
       "</table>\n",
       "</div>"
      ],
      "text/plain": [
       "         event  device_id\n",
       "0    app_start     441486\n",
       "3       search     417101\n",
       "1  choose_item     314473\n",
       "4   tap_basket     217256\n",
       "2     purchase      73630"
      ]
     },
     "execution_count": 38,
     "metadata": {},
     "output_type": "execute_result"
    }
   ],
   "source": [
    "df_event_new.sort_values('device_id', ascending=False)"
   ]
  },
  {
   "cell_type": "code",
   "execution_count": 39,
   "id": "c98695c4",
   "metadata": {},
   "outputs": [],
   "source": [
    "# Создаем словарь с порядковыми номерами для каждого события\n",
    "event_order = {'app_install': 0, 'app_start': 1, 'register': 2, 'search': 3, 'open_item': 4, 'choose_item': 5, 'tap_basket': 6, 'purchase': 7}\n",
    "\n",
    "# Добавляем новый столбец 'event_order' с порядковыми номерами\n",
    "df_event_new['event_order'] = df_event_new['event'].map(event_order)\n",
    "\n",
    "# Сортируем датафрейм по столбцу 'event_order'\n",
    "df_sorted = df_event_new.sort_values('event_order')"
   ]
  },
  {
   "cell_type": "code",
   "execution_count": 40,
   "id": "6df1a377",
   "metadata": {},
   "outputs": [],
   "source": [
    "df_sorted\n",
    "df_sorted['device_id_diff'] = df_sorted['device_id'].diff().fillna(df_sorted['device_id'])\n"
   ]
  },
  {
   "cell_type": "code",
   "execution_count": 41,
   "id": "1350b9f5",
   "metadata": {},
   "outputs": [
    {
     "data": {
      "text/html": [
       "<div>\n",
       "<style scoped>\n",
       "    .dataframe tbody tr th:only-of-type {\n",
       "        vertical-align: middle;\n",
       "    }\n",
       "\n",
       "    .dataframe tbody tr th {\n",
       "        vertical-align: top;\n",
       "    }\n",
       "\n",
       "    .dataframe thead th {\n",
       "        text-align: right;\n",
       "    }\n",
       "</style>\n",
       "<table border=\"1\" class=\"dataframe\">\n",
       "  <thead>\n",
       "    <tr style=\"text-align: right;\">\n",
       "      <th></th>\n",
       "      <th>event</th>\n",
       "      <th>device_id</th>\n",
       "      <th>event_order</th>\n",
       "      <th>device_id_diff</th>\n",
       "    </tr>\n",
       "  </thead>\n",
       "  <tbody>\n",
       "    <tr>\n",
       "      <th>0</th>\n",
       "      <td>app_start</td>\n",
       "      <td>441486</td>\n",
       "      <td>1</td>\n",
       "      <td>441486.0</td>\n",
       "    </tr>\n",
       "    <tr>\n",
       "      <th>3</th>\n",
       "      <td>search</td>\n",
       "      <td>417101</td>\n",
       "      <td>3</td>\n",
       "      <td>-24385.0</td>\n",
       "    </tr>\n",
       "    <tr>\n",
       "      <th>1</th>\n",
       "      <td>choose_item</td>\n",
       "      <td>314473</td>\n",
       "      <td>5</td>\n",
       "      <td>-102628.0</td>\n",
       "    </tr>\n",
       "    <tr>\n",
       "      <th>4</th>\n",
       "      <td>tap_basket</td>\n",
       "      <td>217256</td>\n",
       "      <td>6</td>\n",
       "      <td>-97217.0</td>\n",
       "    </tr>\n",
       "    <tr>\n",
       "      <th>2</th>\n",
       "      <td>purchase</td>\n",
       "      <td>73630</td>\n",
       "      <td>7</td>\n",
       "      <td>-143626.0</td>\n",
       "    </tr>\n",
       "  </tbody>\n",
       "</table>\n",
       "</div>"
      ],
      "text/plain": [
       "         event  device_id  event_order  device_id_diff\n",
       "0    app_start     441486            1        441486.0\n",
       "3       search     417101            3        -24385.0\n",
       "1  choose_item     314473            5       -102628.0\n",
       "4   tap_basket     217256            6        -97217.0\n",
       "2     purchase      73630            7       -143626.0"
      ]
     },
     "execution_count": 41,
     "metadata": {},
     "output_type": "execute_result"
    }
   ],
   "source": [
    "df_sorted"
   ]
  },
  {
   "cell_type": "markdown",
   "id": "fe18f059",
   "metadata": {},
   "source": [
    "<h2>Задача #5</h2>\n",
    "Пользователи, пришедшие с каких каналов, показали самую низкую конверсию в первую покупку?"
   ]
  },
  {
   "cell_type": "code",
   "execution_count": 42,
   "id": "d79e1fed",
   "metadata": {},
   "outputs": [],
   "source": [
    "installs_cr = installs.groupby('utm_source', as_index=False).agg({'device_id' : 'nunique'})"
   ]
  },
  {
   "cell_type": "code",
   "execution_count": 43,
   "id": "96c25268",
   "metadata": {},
   "outputs": [],
   "source": [
    "purchases_cr = purchases.groupby('utm_source', as_index=False).agg({'device_id' : 'nunique'})"
   ]
  },
  {
   "cell_type": "code",
   "execution_count": 44,
   "id": "ee896e62",
   "metadata": {},
   "outputs": [],
   "source": [
    "sources_cr = pd.merge(installs_cr, purchases_cr, on = 'utm_source', suffixes=('_install', '_purchase') )"
   ]
  },
  {
   "cell_type": "code",
   "execution_count": 45,
   "id": "432b857f",
   "metadata": {},
   "outputs": [],
   "source": [
    "sources_cr['cr'] = round(sources_cr['device_id_purchase'] / sources_cr['device_id_install'] * 100, 1)"
   ]
  },
  {
   "cell_type": "code",
   "execution_count": 46,
   "id": "929bdf81",
   "metadata": {},
   "outputs": [
    {
     "data": {
      "text/html": [
       "<div>\n",
       "<style scoped>\n",
       "    .dataframe tbody tr th:only-of-type {\n",
       "        vertical-align: middle;\n",
       "    }\n",
       "\n",
       "    .dataframe tbody tr th {\n",
       "        vertical-align: top;\n",
       "    }\n",
       "\n",
       "    .dataframe thead th {\n",
       "        text-align: right;\n",
       "    }\n",
       "</style>\n",
       "<table border=\"1\" class=\"dataframe\">\n",
       "  <thead>\n",
       "    <tr style=\"text-align: right;\">\n",
       "      <th></th>\n",
       "      <th>utm_source</th>\n",
       "      <th>device_id_install</th>\n",
       "      <th>device_id_purchase</th>\n",
       "      <th>cr</th>\n",
       "    </tr>\n",
       "  </thead>\n",
       "  <tbody>\n",
       "    <tr>\n",
       "      <th>0</th>\n",
       "      <td>-</td>\n",
       "      <td>32460</td>\n",
       "      <td>16598</td>\n",
       "      <td>51.1</td>\n",
       "    </tr>\n",
       "    <tr>\n",
       "      <th>1</th>\n",
       "      <td>facebook_ads</td>\n",
       "      <td>13916</td>\n",
       "      <td>9017</td>\n",
       "      <td>64.8</td>\n",
       "    </tr>\n",
       "    <tr>\n",
       "      <th>2</th>\n",
       "      <td>google_ads</td>\n",
       "      <td>26286</td>\n",
       "      <td>11339</td>\n",
       "      <td>43.1</td>\n",
       "    </tr>\n",
       "    <tr>\n",
       "      <th>3</th>\n",
       "      <td>instagram_ads</td>\n",
       "      <td>20096</td>\n",
       "      <td>10762</td>\n",
       "      <td>53.6</td>\n",
       "    </tr>\n",
       "    <tr>\n",
       "      <th>4</th>\n",
       "      <td>referal</td>\n",
       "      <td>9282</td>\n",
       "      <td>6362</td>\n",
       "      <td>68.5</td>\n",
       "    </tr>\n",
       "    <tr>\n",
       "      <th>5</th>\n",
       "      <td>vk_ads</td>\n",
       "      <td>23189</td>\n",
       "      <td>12364</td>\n",
       "      <td>53.3</td>\n",
       "    </tr>\n",
       "    <tr>\n",
       "      <th>6</th>\n",
       "      <td>yandex-direct</td>\n",
       "      <td>29368</td>\n",
       "      <td>12028</td>\n",
       "      <td>41.0</td>\n",
       "    </tr>\n",
       "  </tbody>\n",
       "</table>\n",
       "</div>"
      ],
      "text/plain": [
       "      utm_source  device_id_install  device_id_purchase    cr\n",
       "0              -              32460               16598  51.1\n",
       "1   facebook_ads              13916                9017  64.8\n",
       "2     google_ads              26286               11339  43.1\n",
       "3  instagram_ads              20096               10762  53.6\n",
       "4        referal               9282                6362  68.5\n",
       "5         vk_ads              23189               12364  53.3\n",
       "6  yandex-direct              29368               12028  41.0"
      ]
     },
     "execution_count": 46,
     "metadata": {},
     "output_type": "execute_result"
    }
   ],
   "source": [
    "sources_cr"
   ]
  },
  {
   "cell_type": "markdown",
   "id": "a652e39d",
   "metadata": {},
   "source": [
    "<h2>Задача #6</h2>\n",
    "Пользователи, пришедшие с какого канала, имеют медианный первый чек выше? (учитываются только первые покупки пользователей)"
   ]
  },
  {
   "cell_type": "code",
   "execution_count": 52,
   "id": "21c5696f",
   "metadata": {},
   "outputs": [],
   "source": [
    "purchases = purchases.sort_values('date')"
   ]
  },
  {
   "cell_type": "code",
   "execution_count": 57,
   "id": "14f5f03f",
   "metadata": {},
   "outputs": [],
   "source": [
    "purchases_1 = purchases.drop_duplicates('device_id')"
   ]
  },
  {
   "cell_type": "code",
   "execution_count": 58,
   "id": "5b3db268",
   "metadata": {},
   "outputs": [
    {
     "data": {
      "text/html": [
       "<div>\n",
       "<style scoped>\n",
       "    .dataframe tbody tr th:only-of-type {\n",
       "        vertical-align: middle;\n",
       "    }\n",
       "\n",
       "    .dataframe tbody tr th {\n",
       "        vertical-align: top;\n",
       "    }\n",
       "\n",
       "    .dataframe thead th {\n",
       "        text-align: right;\n",
       "    }\n",
       "</style>\n",
       "<table border=\"1\" class=\"dataframe\">\n",
       "  <thead>\n",
       "    <tr style=\"text-align: right;\">\n",
       "      <th></th>\n",
       "      <th>date</th>\n",
       "      <th>event</th>\n",
       "      <th>purchase_sum</th>\n",
       "      <th>os_name</th>\n",
       "      <th>device_id</th>\n",
       "      <th>gender</th>\n",
       "      <th>city</th>\n",
       "      <th>utm_source</th>\n",
       "    </tr>\n",
       "  </thead>\n",
       "  <tbody>\n",
       "    <tr>\n",
       "      <th>7691</th>\n",
       "      <td>2020-01-01</td>\n",
       "      <td>purchase</td>\n",
       "      <td>265.5</td>\n",
       "      <td>android</td>\n",
       "      <td>6081155</td>\n",
       "      <td>female</td>\n",
       "      <td>Moscow</td>\n",
       "      <td>-</td>\n",
       "    </tr>\n",
       "    <tr>\n",
       "      <th>7693</th>\n",
       "      <td>2020-01-01</td>\n",
       "      <td>purchase</td>\n",
       "      <td>98.5</td>\n",
       "      <td>ios</td>\n",
       "      <td>7458607</td>\n",
       "      <td>female</td>\n",
       "      <td>Moscow</td>\n",
       "      <td>instagram_ads</td>\n",
       "    </tr>\n",
       "    <tr>\n",
       "      <th>7694</th>\n",
       "      <td>2020-01-01</td>\n",
       "      <td>purchase</td>\n",
       "      <td>304.5</td>\n",
       "      <td>ios</td>\n",
       "      <td>3520947</td>\n",
       "      <td>male</td>\n",
       "      <td>Moscow</td>\n",
       "      <td>instagram_ads</td>\n",
       "    </tr>\n",
       "    <tr>\n",
       "      <th>7695</th>\n",
       "      <td>2020-01-01</td>\n",
       "      <td>purchase</td>\n",
       "      <td>153.5</td>\n",
       "      <td>android</td>\n",
       "      <td>1170605</td>\n",
       "      <td>male</td>\n",
       "      <td>Moscow</td>\n",
       "      <td>google_ads</td>\n",
       "    </tr>\n",
       "    <tr>\n",
       "      <th>7696</th>\n",
       "      <td>2020-01-01</td>\n",
       "      <td>purchase</td>\n",
       "      <td>318.0</td>\n",
       "      <td>android</td>\n",
       "      <td>16780017</td>\n",
       "      <td>female</td>\n",
       "      <td>Moscow</td>\n",
       "      <td>-</td>\n",
       "    </tr>\n",
       "    <tr>\n",
       "      <th>...</th>\n",
       "      <td>...</td>\n",
       "      <td>...</td>\n",
       "      <td>...</td>\n",
       "      <td>...</td>\n",
       "      <td>...</td>\n",
       "      <td>...</td>\n",
       "      <td>...</td>\n",
       "      <td>...</td>\n",
       "    </tr>\n",
       "    <tr>\n",
       "      <th>2507469</th>\n",
       "      <td>2020-03-31</td>\n",
       "      <td>purchase</td>\n",
       "      <td>6546.5</td>\n",
       "      <td>android</td>\n",
       "      <td>11864116</td>\n",
       "      <td>male</td>\n",
       "      <td>Saint-Petersburg</td>\n",
       "      <td>google_ads</td>\n",
       "    </tr>\n",
       "    <tr>\n",
       "      <th>2507471</th>\n",
       "      <td>2020-03-31</td>\n",
       "      <td>purchase</td>\n",
       "      <td>2857.5</td>\n",
       "      <td>ios</td>\n",
       "      <td>26120362</td>\n",
       "      <td>female</td>\n",
       "      <td>Moscow</td>\n",
       "      <td>google_ads</td>\n",
       "    </tr>\n",
       "    <tr>\n",
       "      <th>2507006</th>\n",
       "      <td>2020-03-31</td>\n",
       "      <td>purchase</td>\n",
       "      <td>577.5</td>\n",
       "      <td>android</td>\n",
       "      <td>16233094</td>\n",
       "      <td>female</td>\n",
       "      <td>Moscow</td>\n",
       "      <td>instagram_ads</td>\n",
       "    </tr>\n",
       "    <tr>\n",
       "      <th>2507446</th>\n",
       "      <td>2020-03-31</td>\n",
       "      <td>purchase</td>\n",
       "      <td>6963.0</td>\n",
       "      <td>android</td>\n",
       "      <td>11153353</td>\n",
       "      <td>female</td>\n",
       "      <td>Saint-Petersburg</td>\n",
       "      <td>-</td>\n",
       "    </tr>\n",
       "    <tr>\n",
       "      <th>2507462</th>\n",
       "      <td>2020-03-31</td>\n",
       "      <td>purchase</td>\n",
       "      <td>3595.0</td>\n",
       "      <td>android</td>\n",
       "      <td>17964402</td>\n",
       "      <td>male</td>\n",
       "      <td>Moscow</td>\n",
       "      <td>instagram_ads</td>\n",
       "    </tr>\n",
       "  </tbody>\n",
       "</table>\n",
       "<p>70875 rows × 8 columns</p>\n",
       "</div>"
      ],
      "text/plain": [
       "              date     event  purchase_sum  os_name  device_id  gender  \\\n",
       "7691    2020-01-01  purchase         265.5  android    6081155  female   \n",
       "7693    2020-01-01  purchase          98.5      ios    7458607  female   \n",
       "7694    2020-01-01  purchase         304.5      ios    3520947    male   \n",
       "7695    2020-01-01  purchase         153.5  android    1170605    male   \n",
       "7696    2020-01-01  purchase         318.0  android   16780017  female   \n",
       "...            ...       ...           ...      ...        ...     ...   \n",
       "2507469 2020-03-31  purchase        6546.5  android   11864116    male   \n",
       "2507471 2020-03-31  purchase        2857.5      ios   26120362  female   \n",
       "2507006 2020-03-31  purchase         577.5  android   16233094  female   \n",
       "2507446 2020-03-31  purchase        6963.0  android   11153353  female   \n",
       "2507462 2020-03-31  purchase        3595.0  android   17964402    male   \n",
       "\n",
       "                     city     utm_source  \n",
       "7691               Moscow              -  \n",
       "7693               Moscow  instagram_ads  \n",
       "7694               Moscow  instagram_ads  \n",
       "7695               Moscow     google_ads  \n",
       "7696               Moscow              -  \n",
       "...                   ...            ...  \n",
       "2507469  Saint-Petersburg     google_ads  \n",
       "2507471            Moscow     google_ads  \n",
       "2507006            Moscow  instagram_ads  \n",
       "2507446  Saint-Petersburg              -  \n",
       "2507462            Moscow  instagram_ads  \n",
       "\n",
       "[70875 rows x 8 columns]"
      ]
     },
     "execution_count": 58,
     "metadata": {},
     "output_type": "execute_result"
    }
   ],
   "source": [
    "purchases_1"
   ]
  },
  {
   "cell_type": "code",
   "execution_count": 62,
   "id": "28ac4553",
   "metadata": {},
   "outputs": [
    {
     "data": {
      "text/html": [
       "<div>\n",
       "<style scoped>\n",
       "    .dataframe tbody tr th:only-of-type {\n",
       "        vertical-align: middle;\n",
       "    }\n",
       "\n",
       "    .dataframe tbody tr th {\n",
       "        vertical-align: top;\n",
       "    }\n",
       "\n",
       "    .dataframe thead th {\n",
       "        text-align: right;\n",
       "    }\n",
       "</style>\n",
       "<table border=\"1\" class=\"dataframe\">\n",
       "  <thead>\n",
       "    <tr style=\"text-align: right;\">\n",
       "      <th></th>\n",
       "      <th>utm_source</th>\n",
       "      <th>purchase_sum</th>\n",
       "    </tr>\n",
       "  </thead>\n",
       "  <tbody>\n",
       "    <tr>\n",
       "      <th>1</th>\n",
       "      <td>facebook_ads</td>\n",
       "      <td>389.0</td>\n",
       "    </tr>\n",
       "    <tr>\n",
       "      <th>2</th>\n",
       "      <td>google_ads</td>\n",
       "      <td>390.5</td>\n",
       "    </tr>\n",
       "    <tr>\n",
       "      <th>6</th>\n",
       "      <td>yandex-direct</td>\n",
       "      <td>392.5</td>\n",
       "    </tr>\n",
       "    <tr>\n",
       "      <th>5</th>\n",
       "      <td>vk_ads</td>\n",
       "      <td>393.0</td>\n",
       "    </tr>\n",
       "    <tr>\n",
       "      <th>3</th>\n",
       "      <td>instagram_ads</td>\n",
       "      <td>393.5</td>\n",
       "    </tr>\n",
       "    <tr>\n",
       "      <th>4</th>\n",
       "      <td>referal</td>\n",
       "      <td>395.5</td>\n",
       "    </tr>\n",
       "    <tr>\n",
       "      <th>0</th>\n",
       "      <td>-</td>\n",
       "      <td>398.5</td>\n",
       "    </tr>\n",
       "  </tbody>\n",
       "</table>\n",
       "</div>"
      ],
      "text/plain": [
       "      utm_source  purchase_sum\n",
       "1   facebook_ads         389.0\n",
       "2     google_ads         390.5\n",
       "6  yandex-direct         392.5\n",
       "5         vk_ads         393.0\n",
       "3  instagram_ads         393.5\n",
       "4        referal         395.5\n",
       "0              -         398.5"
      ]
     },
     "execution_count": 62,
     "metadata": {},
     "output_type": "execute_result"
    }
   ],
   "source": [
    "# Реферальная программа\n",
    "purchases_1.groupby('utm_source', as_index=False).agg({'purchase_sum' : 'median'}).sort_values('purchase_sum')"
   ]
  },
  {
   "cell_type": "markdown",
   "id": "f7546847",
   "metadata": {},
   "source": [
    "<h2>Задача #7</h2>\n",
    "\n",
    "Данные по затратам на рекламу:\n",
    "\n",
    "- Яндекс – 10 491 707 руб.\n",
    "\n",
    "- Гугл – 10 534 878 руб.\n",
    "\n",
    "- Фейсбук – 8 590 498 руб.\n",
    "\n",
    "- Инстаграм – 8 561626 руб.\n",
    "\n",
    "- ВК – 9 553 531руб.\n",
    "\n",
    "- Расходы на реферальную программу: если пользователь приведет друга и последний совершит первую покупку, то оба получат по 100 рублей.\n",
    "\n",
    "Какой платный канал привлечения (среди рекламных) имеет самый высокий ROMI?\n",
    "\n",
    "\n",
    "ROMI = (Валовая прибыль - Маркетинговые расходы) / Маркетинговые расходы"
   ]
  },
  {
   "cell_type": "code",
   "execution_count": 70,
   "id": "b5cc45e8",
   "metadata": {},
   "outputs": [],
   "source": [
    "# Доходы с покупок по каналам прожвиженмя\n",
    "romi_df = df.groupby('utm_source', as_index=False).agg({'purchase_sum' : 'sum'}).sort_values('purchase_sum', ascending=False)"
   ]
  },
  {
   "cell_type": "code",
   "execution_count": 71,
   "id": "dcec0d21",
   "metadata": {},
   "outputs": [],
   "source": [
    "merketing_expenses = [0, 9553531, 8561626, 10491707, 10534878, 8590498, 0]"
   ]
  },
  {
   "cell_type": "code",
   "execution_count": 72,
   "id": "d1f6349c",
   "metadata": {},
   "outputs": [],
   "source": [
    "romi_df['merketing_expenses'] = merketing_expenses"
   ]
  },
  {
   "cell_type": "code",
   "execution_count": 73,
   "id": "5226f199",
   "metadata": {},
   "outputs": [
    {
     "data": {
      "text/html": [
       "<div>\n",
       "<style scoped>\n",
       "    .dataframe tbody tr th:only-of-type {\n",
       "        vertical-align: middle;\n",
       "    }\n",
       "\n",
       "    .dataframe tbody tr th {\n",
       "        vertical-align: top;\n",
       "    }\n",
       "\n",
       "    .dataframe thead th {\n",
       "        text-align: right;\n",
       "    }\n",
       "</style>\n",
       "<table border=\"1\" class=\"dataframe\">\n",
       "  <thead>\n",
       "    <tr style=\"text-align: right;\">\n",
       "      <th></th>\n",
       "      <th>utm_source</th>\n",
       "      <th>purchase_sum</th>\n",
       "      <th>merketing_expenses</th>\n",
       "    </tr>\n",
       "  </thead>\n",
       "  <tbody>\n",
       "    <tr>\n",
       "      <th>0</th>\n",
       "      <td>-</td>\n",
       "      <td>21449749.5</td>\n",
       "      <td>0</td>\n",
       "    </tr>\n",
       "    <tr>\n",
       "      <th>5</th>\n",
       "      <td>vk_ads</td>\n",
       "      <td>16389652.5</td>\n",
       "      <td>9553531</td>\n",
       "    </tr>\n",
       "    <tr>\n",
       "      <th>3</th>\n",
       "      <td>instagram_ads</td>\n",
       "      <td>14546969.0</td>\n",
       "      <td>8561626</td>\n",
       "    </tr>\n",
       "    <tr>\n",
       "      <th>6</th>\n",
       "      <td>yandex-direct</td>\n",
       "      <td>13915368.0</td>\n",
       "      <td>10491707</td>\n",
       "    </tr>\n",
       "    <tr>\n",
       "      <th>2</th>\n",
       "      <td>google_ads</td>\n",
       "      <td>12868276.0</td>\n",
       "      <td>10534878</td>\n",
       "    </tr>\n",
       "    <tr>\n",
       "      <th>1</th>\n",
       "      <td>facebook_ads</td>\n",
       "      <td>12249901.0</td>\n",
       "      <td>8590498</td>\n",
       "    </tr>\n",
       "    <tr>\n",
       "      <th>4</th>\n",
       "      <td>referal</td>\n",
       "      <td>8837044.5</td>\n",
       "      <td>0</td>\n",
       "    </tr>\n",
       "  </tbody>\n",
       "</table>\n",
       "</div>"
      ],
      "text/plain": [
       "      utm_source  purchase_sum  merketing_expenses\n",
       "0              -    21449749.5                   0\n",
       "5         vk_ads    16389652.5             9553531\n",
       "3  instagram_ads    14546969.0             8561626\n",
       "6  yandex-direct    13915368.0            10491707\n",
       "2     google_ads    12868276.0            10534878\n",
       "1   facebook_ads    12249901.0             8590498\n",
       "4        referal     8837044.5                   0"
      ]
     },
     "execution_count": 73,
     "metadata": {},
     "output_type": "execute_result"
    }
   ],
   "source": [
    "romi_df"
   ]
  },
  {
   "cell_type": "code",
   "execution_count": 78,
   "id": "c38a28af",
   "metadata": {},
   "outputs": [],
   "source": [
    "romi_df['romi'] = round((romi_df['purchase_sum'] - romi_df['merketing_expenses']) / romi_df['purchase_sum'],2)"
   ]
  },
  {
   "cell_type": "code",
   "execution_count": 79,
   "id": "a7c013d2",
   "metadata": {},
   "outputs": [
    {
     "data": {
      "text/html": [
       "<div>\n",
       "<style scoped>\n",
       "    .dataframe tbody tr th:only-of-type {\n",
       "        vertical-align: middle;\n",
       "    }\n",
       "\n",
       "    .dataframe tbody tr th {\n",
       "        vertical-align: top;\n",
       "    }\n",
       "\n",
       "    .dataframe thead th {\n",
       "        text-align: right;\n",
       "    }\n",
       "</style>\n",
       "<table border=\"1\" class=\"dataframe\">\n",
       "  <thead>\n",
       "    <tr style=\"text-align: right;\">\n",
       "      <th></th>\n",
       "      <th>utm_source</th>\n",
       "      <th>purchase_sum</th>\n",
       "      <th>merketing_expenses</th>\n",
       "      <th>romi</th>\n",
       "    </tr>\n",
       "  </thead>\n",
       "  <tbody>\n",
       "    <tr>\n",
       "      <th>0</th>\n",
       "      <td>-</td>\n",
       "      <td>21449749.5</td>\n",
       "      <td>0</td>\n",
       "      <td>1.00</td>\n",
       "    </tr>\n",
       "    <tr>\n",
       "      <th>5</th>\n",
       "      <td>vk_ads</td>\n",
       "      <td>16389652.5</td>\n",
       "      <td>9553531</td>\n",
       "      <td>0.42</td>\n",
       "    </tr>\n",
       "    <tr>\n",
       "      <th>3</th>\n",
       "      <td>instagram_ads</td>\n",
       "      <td>14546969.0</td>\n",
       "      <td>8561626</td>\n",
       "      <td>0.41</td>\n",
       "    </tr>\n",
       "    <tr>\n",
       "      <th>6</th>\n",
       "      <td>yandex-direct</td>\n",
       "      <td>13915368.0</td>\n",
       "      <td>10491707</td>\n",
       "      <td>0.25</td>\n",
       "    </tr>\n",
       "    <tr>\n",
       "      <th>2</th>\n",
       "      <td>google_ads</td>\n",
       "      <td>12868276.0</td>\n",
       "      <td>10534878</td>\n",
       "      <td>0.18</td>\n",
       "    </tr>\n",
       "    <tr>\n",
       "      <th>1</th>\n",
       "      <td>facebook_ads</td>\n",
       "      <td>12249901.0</td>\n",
       "      <td>8590498</td>\n",
       "      <td>0.30</td>\n",
       "    </tr>\n",
       "    <tr>\n",
       "      <th>4</th>\n",
       "      <td>referal</td>\n",
       "      <td>8837044.5</td>\n",
       "      <td>0</td>\n",
       "      <td>1.00</td>\n",
       "    </tr>\n",
       "  </tbody>\n",
       "</table>\n",
       "</div>"
      ],
      "text/plain": [
       "      utm_source  purchase_sum  merketing_expenses  romi\n",
       "0              -    21449749.5                   0  1.00\n",
       "5         vk_ads    16389652.5             9553531  0.42\n",
       "3  instagram_ads    14546969.0             8561626  0.41\n",
       "6  yandex-direct    13915368.0            10491707  0.25\n",
       "2     google_ads    12868276.0            10534878  0.18\n",
       "1   facebook_ads    12249901.0             8590498  0.30\n",
       "4        referal     8837044.5                   0  1.00"
      ]
     },
     "execution_count": 79,
     "metadata": {},
     "output_type": "execute_result"
    }
   ],
   "source": [
    "# ВК\n",
    "romi_df"
   ]
  },
  {
   "cell_type": "code",
   "execution_count": null,
   "id": "ab1e77fd",
   "metadata": {},
   "outputs": [],
   "source": []
  }
 ],
 "metadata": {
  "kernelspec": {
   "display_name": "Python 3 (ipykernel)",
   "language": "python",
   "name": "python3"
  },
  "language_info": {
   "codemirror_mode": {
    "name": "ipython",
    "version": 3
   },
   "file_extension": ".py",
   "mimetype": "text/x-python",
   "name": "python",
   "nbconvert_exporter": "python",
   "pygments_lexer": "ipython3",
   "version": "3.11.5"
  }
 },
 "nbformat": 4,
 "nbformat_minor": 5
}
